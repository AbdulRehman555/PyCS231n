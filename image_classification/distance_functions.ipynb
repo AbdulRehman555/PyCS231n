{
 "cells": [
  {
   "cell_type": "markdown",
   "metadata": {},
   "source": [
    "## Distance Functions"
   ]
  },
  {
   "cell_type": "code",
   "execution_count": 1,
   "metadata": {},
   "outputs": [],
   "source": [
    "import os\n",
    "import torch\n",
    "import torchvision\n",
    "import torchvision.transforms as transforms\n",
    "import numpy as np\n",
    "import matplotlib.pyplot as plt\n",
    "from tqdm import tqdm"
   ]
  },
  {
   "cell_type": "code",
   "execution_count": 2,
   "metadata": {},
   "outputs": [
    {
     "name": "stdout",
     "output_type": "stream",
     "text": [
      "Test Image:\n",
      "\n",
      "[[ 56  32  10  18]\n",
      " [ 90  23 128 133]\n",
      " [ 24  26 178 200]\n",
      " [  2   0 255 220]]\n",
      "\n",
      "Training Image:\n",
      "\n",
      "[[ 10  20  24  17]\n",
      " [  8  10  89 100]\n",
      " [ 12  16 178 170]\n",
      " [  4  32 233 112]]\n"
     ]
    }
   ],
   "source": [
    "# Creating a sample input data\n",
    "\n",
    "test_image = np.array(\n",
    "    [[56, 32, 10, 18],\n",
    "     [90, 23, 128, 133],\n",
    "     [24, 26, 178, 200],\n",
    "     [2, 0, 255, 220]]\n",
    ")\n",
    "\n",
    "training_image = np.array(\n",
    "    [[10, 20, 24, 17],\n",
    "     [8, 10, 89, 100],\n",
    "     [12, 16, 178, 170],\n",
    "     [4, 32, 233, 112]]\n",
    ")\n",
    "\n",
    "print(\n",
    "    f\"Test Image:\\n\\n\"\n",
    "    f\"{test_image}\\n\\n\"\n",
    "    f\"Training Image:\\n\\n\"\n",
    "    f\"{training_image}\"\n",
    ")"
   ]
  },
  {
   "cell_type": "markdown",
   "metadata": {},
   "source": [
    "### 1. Manhatten Distance (L1 Norm)"
   ]
  },
  {
   "cell_type": "code",
   "execution_count": 3,
   "metadata": {},
   "outputs": [
    {
     "name": "stdout",
     "output_type": "stream",
     "text": [
      "L1: 456\n"
     ]
    }
   ],
   "source": [
    "# Pixel-wise absolute value differences\n",
    "def calculate_L1_norm(image1, image2):\n",
    "    ''' \n",
    "    L1 norm formula: sum(abs(a - b)) \n",
    "    for all corresponding elements in vectors a and b\n",
    "    '''\n",
    "    return np.sum(np.abs(image1 - image2))\n",
    "\n",
    "l1 = calculate_L1_norm(test_image, training_image)\n",
    "print(f\"L1: {l1}\")"
   ]
  },
  {
   "cell_type": "markdown",
   "metadata": {},
   "source": [
    "### 2. Euclidean Distance (L2 Norm)"
   ]
  },
  {
   "cell_type": "code",
   "execution_count": 4,
   "metadata": {},
   "outputs": [
    {
     "name": "stdout",
     "output_type": "stream",
     "text": [
      "L2: 162.11107303327555\n"
     ]
    }
   ],
   "source": [
    "# Pixel-wise squared differences and square root of the sum\n",
    "def calculate_L2_norm(image1, image2):\n",
    "    ''' \n",
    "    L2 norm (Euclidean) formula: sqrt(sum((a - b)**2)) \n",
    "    for all corresponding elements in vectors a and b\n",
    "    '''\n",
    "    return np.sqrt(np.sum((image1 - image2) ** 2))\n",
    "\n",
    "l2 = calculate_L2_norm(test_image, training_image)\n",
    "print(f\"L2: {l2}\")"
   ]
  },
  {
   "cell_type": "code",
   "execution_count": null,
   "metadata": {},
   "outputs": [],
   "source": []
  }
 ],
 "metadata": {
  "kernelspec": {
   "display_name": "Python 3 (ipykernel)",
   "language": "python",
   "name": "python3"
  },
  "language_info": {
   "codemirror_mode": {
    "name": "ipython",
    "version": 3
   },
   "file_extension": ".py",
   "mimetype": "text/x-python",
   "name": "python",
   "nbconvert_exporter": "python",
   "pygments_lexer": "ipython3",
   "version": "3.11.5"
  }
 },
 "nbformat": 4,
 "nbformat_minor": 2
}
